{
 "cells": [
  {
   "cell_type": "code",
   "execution_count": null,
   "metadata": {},
   "outputs": [],
   "source": [
    "import open3d as o3d\n",
    "import numpy as np\n",
    "import os\n",
    "from pytorch3d.loss import chamfer_distance\n",
    "import torch\n",
    "\n",
    "boat = o3d.io.read_point_cloud(\"pcdObjects/boat.pcd\")\n",
    "car = o3d.io.read_point_cloud(\"pcdObjects/car.pcd\")\n",
    "table = o3d.io.read_point_cloud(\"pcdObjects/table.pcd\")\n",
    "laptop = o3d.io.read_point_cloud(\"pcdObjects/laptop.pcd\")\n",
    "plane = o3d.io.read_point_cloud(\"pcdObjects/plane.pcd\")\n",
    "trashcan = o3d.io.read_point_cloud(\"pcdObjects/trashcan.pcd\")\n",
    "\n",
    "pcds = []\n",
    "pcds.append(table)\n",
    "\n",
    "R = laptop.get_rotation_matrix_from_xyz((np.pi/2, np.pi/2, 0))\n",
    "laptop.rotate(R)\n",
    "laptop.scale(20, center=laptop.get_center())\n",
    "laptop.translate((85, 90, 32))\n",
    "pcds.append(laptop)\n",
    "\n",
    "R = car.get_rotation_matrix_from_xyz((np.pi/2, -np.pi/4, 0))\n",
    "car.rotate(R)\n",
    "car.translate((95, 90, 30))\n",
    "car.scale(10, center=car.get_center())\n",
    "pcds.append(car)\n",
    "\n",
    "R = trashcan.get_rotation_matrix_from_xyz((np.pi/2, 0, 0))\n",
    "trashcan.rotate(R)\n",
    "trashcan.translate((98, 106, 33.3))\n",
    "trashcan.scale(13, center=trashcan.get_center())\n",
    "pcds.append(trashcan)\n",
    "\n",
    "R = plane.get_rotation_matrix_from_xyz((np.pi/2, np.pi/4, 0))\n",
    "plane.rotate(R)\n",
    "plane.translate((85, 105, 29.5))\n",
    "plane.scale(30, center=plane.get_center())\n",
    "pcds.append(plane)\n",
    "\n",
    "R = boat.get_rotation_matrix_from_xyz((np.pi/2, -np.pi/2, 0))\n",
    "boat.rotate(R)\n",
    "boat.translate((88, 75, 30))\n",
    "boat.scale(20, center=boat.get_center())\n",
    "pcds.append(boat)\n",
    "\n",
    "singlePcd = o3d.geometry.PointCloud()\n",
    "for i in pcds:\n",
    "    singlePcd += i\n",
    "\n"
   ]
  },
  {
   "cell_type": "code",
   "execution_count": null,
   "metadata": {},
   "outputs": [],
   "source": [
    "newPcds = []\n",
    "diameter = np.linalg.norm(np.asarray(singlePcd.get_max_bound()) - np.asarray(singlePcd.get_min_bound()))\n",
    "radius = diameter * 100\n",
    "\n",
    "camera = [0, 0, diameter]\n",
    "_, pt_map = singlePcd.hidden_point_removal(camera, radius)\n",
    "pcd1 = singlePcd.select_by_index(pt_map)\n",
    "# o3d.visualization.draw_geometries([pcd1])\n",
    "newPcds.append(pcd1)"
   ]
  },
  {
   "cell_type": "code",
   "execution_count": null,
   "metadata": {},
   "outputs": [],
   "source": [
    "camera = [0, diameter, 0]\n",
    "_, pt_map = singlePcd.hidden_point_removal(camera, radius)\n",
    "pcd2 = singlePcd.select_by_index(pt_map)\n",
    "# o3d.visualization.draw_geometries([pcd2])\n",
    "newPcds.append(pcd2)"
   ]
  },
  {
   "cell_type": "code",
   "execution_count": null,
   "metadata": {},
   "outputs": [],
   "source": [
    "camera = [diameter, 0, 3*diameter]\n",
    "_, pt_map = singlePcd.hidden_point_removal(camera, radius)\n",
    "pcd3 = singlePcd.select_by_index(pt_map)\n",
    "# o3d.visualization.draw_geometries([pcd3])\n",
    "newPcds.append(pcd3)"
   ]
  },
  {
   "cell_type": "code",
   "execution_count": null,
   "metadata": {},
   "outputs": [],
   "source": [
    "camera = [diameter, 0, diameter]\n",
    "_, pt_map = singlePcd.hidden_point_removal(camera, radius)\n",
    "pcd4 = singlePcd.select_by_index(pt_map)\n",
    "# o3d.visualization.draw_geometries([pcd4])\n",
    "newPcds.append(pcd4)"
   ]
  },
  {
   "cell_type": "code",
   "execution_count": null,
   "metadata": {},
   "outputs": [],
   "source": [
    "camera = [diameter, 2*diameter, diameter]\n",
    "_, pt_map = singlePcd.hidden_point_removal(camera, radius)\n",
    "pcd5 = singlePcd.select_by_index(pt_map)\n",
    "# o3d.visualization.draw_geometries([pcd5])\n",
    "newPcds.append(pcd5)"
   ]
  },
  {
   "cell_type": "code",
   "execution_count": null,
   "metadata": {},
   "outputs": [],
   "source": [
    "camera = [diameter, diameter, 0]\n",
    "_, pt_map = singlePcd.hidden_point_removal(camera, radius)\n",
    "pcd6 = singlePcd.select_by_index(pt_map)\n",
    "# o3d.visualization.draw_geometries([pcd6])\n",
    "newPcds.append(pcd6)"
   ]
  },
  {
   "cell_type": "code",
   "execution_count": null,
   "metadata": {},
   "outputs": [],
   "source": [
    "reconstructedPcd = o3d.geometry.PointCloud()\n",
    "for i in newPcds:\n",
    "    reconstructedPcd += i"
   ]
  },
  {
   "cell_type": "code",
   "execution_count": null,
   "metadata": {},
   "outputs": [],
   "source": [
    "aray = np.asarray(reconstructedPcd.points)\n",
    "array = np.asarray(aray)\n",
    "x = torch.FloatTensor(aray)\n",
    "x.unsqueeze_(0)\n",
    "print(x.shape)\n",
    "aray2 = np.asarray(singlePcd.points)\n",
    "y = torch.FloatTensor(aray2)\n",
    "y.unsqueeze_(0)\n",
    "print(y.shape)\n",
    "chamfer_distance(y, x)"
   ]
  },
  {
   "cell_type": "markdown",
   "metadata": {},
   "source": [
    "- Chamfers Distance tells us how much the point clouds differ from each other. It's basically a loss function for point clouds. If CD == 0, then it means that the point clouds are identical.\n",
    "- The number of points in both the point clouds \"reconstructedPcd\" and \"singlePcd\" are different as the reconstructed point cloud is just a merged version of point clouds from different views. It does not completely reconstruct the scene. The scene has holes and is not completed.\n",
    "- With increase in viewpoints, the scene gets completed and the size of holes/ number of holes in the reconstructed pcd decrease. Hence, the CD decreases with increases in viewpoints.\n",
    "- Yes, we can choose the viewpoints such that the CD decreases. If we are limited to a finite number of viewpoints, then choosing viewpoints such that maximum number of unique points get covered will result in a lower CD.\n"
   ]
  }
 ],
 "metadata": {
  "kernelspec": {
   "display_name": "Python 3.9.12 ('a1')",
   "language": "python",
   "name": "python3"
  },
  "language_info": {
   "codemirror_mode": {
    "name": "ipython",
    "version": 3
   },
   "file_extension": ".py",
   "mimetype": "text/x-python",
   "name": "python",
   "nbconvert_exporter": "python",
   "pygments_lexer": "ipython3",
   "version": "3.9.12"
  },
  "orig_nbformat": 4,
  "vscode": {
   "interpreter": {
    "hash": "3b3f52620082b85678dcf4b922e5cd3966d9a4f9264ed046017a0a585fc8a1e9"
   }
  }
 },
 "nbformat": 4,
 "nbformat_minor": 2
}
