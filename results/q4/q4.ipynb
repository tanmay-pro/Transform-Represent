{
 "cells": [
  {
   "cell_type": "code",
   "execution_count": null,
   "metadata": {},
   "outputs": [],
   "source": [
    "import os\n",
    "import numpy as np\n",
    "import open3d as o3d\n",
    "import copy"
   ]
  },
  {
   "cell_type": "code",
   "execution_count": null,
   "metadata": {},
   "outputs": [],
   "source": [
    "storeData = []\n",
    "nameFile = \"../../data/Q4/LiDAR/0000\"\n",
    "for i in range(10, 87):\n",
    "    x = nameFile + str(i) + \".bin\"\n",
    "    binPcd = np.fromfile(x, dtype=np.float32)\n",
    "    binPcd = binPcd.reshape((-1, 4))[:, 0:3]\n",
    "    storeData.append(binPcd)\n",
    "\n",
    "storeData = np.array(storeData, dtype=object)"
   ]
  },
  {
   "cell_type": "code",
   "execution_count": null,
   "metadata": {},
   "outputs": [],
   "source": [
    "odoFile = \"../../data/Q4/odometry.txt\"\n",
    "filePtr = open(odoFile, \"r\")\n",
    "matrix = []\n",
    "for i in range(77):\n",
    "    row = (filePtr.readline()).split()\n",
    "    rowInMatrix= np.array(list(map(float, row)))\n",
    "    rowInMatrix = np.reshape(rowInMatrix, (3, 4))\n",
    "    matrix.append(rowInMatrix)\n"
   ]
  },
  {
   "cell_type": "code",
   "execution_count": null,
   "metadata": {},
   "outputs": [],
   "source": [
    "lidToCam = np.array([[0,0,1,0],[-1,0,0,0], [0,-1,0,0],[0,0,0,1]])\n",
    "lidToCam = np.transpose(lidToCam)"
   ]
  },
  {
   "cell_type": "code",
   "execution_count": null,
   "metadata": {},
   "outputs": [],
   "source": [
    "allPoses = []\n",
    "for i in range(77):\n",
    "    numPoints = storeData[i].shape[0]\n",
    "    currPose = []\n",
    "    for j in range(numPoints):\n",
    "        homoVec = np.array([storeData[i][j][0], storeData[i][j][1], storeData[i][j][2], 1])\n",
    "        convertedVec = np.matmul(lidToCam, homoVec)\n",
    "        currPose.append(convertedVec)\n",
    "    allPoses.append(currPose)\n"
   ]
  },
  {
   "cell_type": "code",
   "execution_count": null,
   "metadata": {},
   "outputs": [],
   "source": [
    "homoMatrix = []\n",
    "for i in range(77):\n",
    "    curr = np.array([[matrix[i][0][0], matrix[i][0][1], matrix[i][0][2], matrix[i][0][3]], [matrix[i][1][0], matrix[i][1][1], matrix[i][1][2], matrix[i][1][3]], [matrix[i][2][0], matrix[i][2][1], matrix[i][2][2], matrix[i][2][3]], [0,0,0,1]]) \n",
    "    homoMatrix.append(curr)\n",
    "worldFrame = np.array([[0,0,1,0],[-1,0,0,0], [0,-1,0,0] ,[0,0,0,1]])\n",
    "ctw = []\n",
    "wtc = []\n",
    "for i in range(77):\n",
    "    ctw.append(np.matmul(worldFrame, homoMatrix[i]))\n",
    "    wtc.append(np.linalg.inv(ctw[i]))"
   ]
  },
  {
   "cell_type": "code",
   "execution_count": null,
   "metadata": {},
   "outputs": [],
   "source": [
    "inCommonFrame = []\n",
    "for i in range(77):\n",
    "    allPoses[i] = np.array(allPoses[i])\n",
    "    extent = allPoses[i].shape[0]\n",
    "    for j in range(extent):\n",
    "        inCommonFrame.append(np.matmul(homoMatrix[i], allPoses[i][j])[0:3])\n"
   ]
  },
  {
   "cell_type": "code",
   "execution_count": 9,
   "metadata": {},
   "outputs": [],
   "source": [
    "pcd = o3d.geometry.PointCloud()\n",
    "pcd.points = o3d.utility.Vector3dVector(inCommonFrame)\n",
    "# o3d.visualization.draw_geometries([pcd])"
   ]
  },
  {
   "cell_type": "code",
   "execution_count": 10,
   "metadata": {},
   "outputs": [],
   "source": [
    "def convertCamera(x, pcd):\n",
    "    o3d.visualization.draw_geometries([pcd.transform(wtc[x])])\n"
   ]
  }
 ],
 "metadata": {
  "kernelspec": {
   "display_name": "Python 3.9.12 ('base')",
   "language": "python",
   "name": "python3"
  },
  "language_info": {
   "codemirror_mode": {
    "name": "ipython",
    "version": 3
   },
   "file_extension": ".py",
   "mimetype": "text/x-python",
   "name": "python",
   "nbconvert_exporter": "python",
   "pygments_lexer": "ipython3",
   "version": "3.9.12"
  },
  "orig_nbformat": 4,
  "vscode": {
   "interpreter": {
    "hash": "90e998891dc8591c319a10683017fd813ece281029df2a663879d0bcabaac420"
   }
  }
 },
 "nbformat": 4,
 "nbformat_minor": 2
}
