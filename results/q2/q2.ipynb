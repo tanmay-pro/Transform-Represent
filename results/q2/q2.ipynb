{
 "cells": [
  {
   "cell_type": "markdown",
   "metadata": {},
   "source": [
    "# Euler Angles, rotation Matrixes and Quarternions\n"
   ]
  },
  {
   "cell_type": "code",
   "execution_count": null,
   "metadata": {},
   "outputs": [],
   "source": [
    "import os\n",
    "import numpy as np\n",
    "import open3d as o3d\n",
    "import math"
   ]
  },
  {
   "cell_type": "markdown",
   "metadata": {},
   "source": [
    "### Function that returns rotation matrix given angles alpha, beta and gamma (in radians) "
   ]
  },
  {
   "cell_type": "code",
   "execution_count": null,
   "metadata": {},
   "outputs": [],
   "source": [
    "# alpha -> angle of rotation about z-axis\n",
    "# beta -> angle of rotation about y-axis\n",
    "# gamma -> angle of rotation about x-axis\n",
    "def rotMatrix(gamma, beta, alpha):\n",
    "    matrix = []\n",
    "    row1 = []\n",
    "    row1.append(math.cos(beta) * math.cos(alpha))\n",
    "    row1.append(math.sin(gamma)*math.sin(beta)*math.cos(alpha) - math.cos(gamma)*math.sin(alpha))\n",
    "    row1.append(math.cos(gamma)*math.sin(beta)*math.cos(alpha) + math.sin(gamma)*math.sin(alpha))\n",
    "    matrix.append(row1)\n",
    "    row2 = []\n",
    "    row2.append(math.cos(beta) * math.sin(alpha))\n",
    "    row2.append(math.sin(gamma)*math.sin(beta)*math.sin(alpha) + math.cos(gamma)*math.cos(alpha))\n",
    "    row2.append(math.cos(gamma)*math.sin(beta)*math.sin(alpha) - math.sin(gamma)*math.cos(alpha))\n",
    "    matrix.append(row2)\n",
    "    row3 = []\n",
    "    row3.append(-math.sin(beta))\n",
    "    row3.append(math.sin(gamma)*math.cos(beta))\n",
    "    row3.append(math.cos(gamma)*math.cos(beta))\n",
    "    matrix.append(row3)\n",
    "    return matrix\n",
    "\n"
   ]
  },
  {
   "cell_type": "markdown",
   "metadata": {},
   "source": [
    "### Function that converts a given quarternion to a rotation matrix"
   ]
  },
  {
   "cell_type": "code",
   "execution_count": null,
   "metadata": {},
   "outputs": [],
   "source": [
    "def QTM(qx, qy, qz, qw):\n",
    "    #  qw is the real part of the quarternion\n",
    "    matrix = []\n",
    "    row1 = []\n",
    "    row1.append(1 - 2 * qy**2 - 2 * qz**2)\n",
    "    row1.append(2 * qx * qy + 2 * qz * qw)\n",
    "    row1.append(2 * qx * qz - 2 * qy * qw)\n",
    "    matrix.append(row1)\n",
    "    row2 = []\n",
    "    row2.append(2 * qx * qy - 2 * qz * qw)\n",
    "    row2.append(1 - 2 * qx**2 - 2 * qz**2)\n",
    "    row2.append(2 * qy * qz + 2 * qx * qw)\n",
    "    matrix.append(row2)\n",
    "    row3 = []\n",
    "    row3.append(2 * qx * qz + 2 * qy * qw)\n",
    "    row3.append(2 * qy * qz - 2 * qx * qw)\n",
    "    row3.append(1 - 2 * qx**2 - 2 * qy**2)\n",
    "    matrix.append(row3)\n",
    "    return matrix\n",
    "\n",
    "# Each vector is expressed as a row here so that a vector is rotated by post multiplying it with a rotation matrix.\n"
   ]
  },
  {
   "cell_type": "markdown",
   "metadata": {},
   "source": [
    "### Function that converts a given rotation matrix to a quarternion"
   ]
  },
  {
   "cell_type": "code",
   "execution_count": null,
   "metadata": {},
   "outputs": [],
   "source": [
    "def MTQ(m):\n",
    "    ans = []\n",
    "    if m[2][2] < 0:\n",
    "        if m[0][0] > m[1][1]:\n",
    "            trace = 1 + m[0][0] - m[1][1] - m[2][2]\n",
    "            ans.append(trace)\n",
    "            ans.append(m[0][1] + m[1][0])\n",
    "            ans.append(m[2][0] + m[0][2])\n",
    "            ans.append(m[1][2] - m[2][1])\n",
    "        else:\n",
    "            trace = 1 - m[0][0] + m[1][1] - m[2][2]\n",
    "            ans.append(m[0][1] + m[1][0])\n",
    "            ans.append(trace)\n",
    "            ans.append(m[1][2] + m[2][1])\n",
    "            ans.append(m[2][0] - m[0][2])\n",
    "    else:\n",
    "        if m[0][0] < -m[1][1]:\n",
    "            trace = 1 - m[0][0] - m[1][1] + m[2][2]\n",
    "            ans.append(m[0][2] + m[2][0])\n",
    "            ans.append(m[1][2] + m[2][1])\n",
    "            ans.append(trace)\n",
    "            ans.append(m[0][1] - m[1][0])\n",
    "        else:\n",
    "            trace = 1 + m[0][0] + m[1][1] + m[2][2]\n",
    "            ans.append(m[1][2] - m[2][1])\n",
    "            ans.append(m[2][0] - m[0][2])\n",
    "            ans.append(m[0][1] - m[1][0])\n",
    "            ans.append(trace)\n",
    "    ans = np.array(ans)\n",
    "    ans = ans / math.sqrt(trace) * 2\n"
   ]
  },
  {
   "cell_type": "markdown",
   "metadata": {},
   "source": [
    "## Gimbal Lock"
   ]
  },
  {
   "cell_type": "markdown",
   "metadata": {},
   "source": [
    "- We can achieve the desired orientation using Euler rotations by combining multiple euler transformations. However, the rotations about different axes depend upon each other. We can say that transformations can change the asis of coordinate system. \n",
    "\n",
    "- In some situations, two of the axes can line up perfectly. In this case, rotating two of the axes has the same effect. In totality, we are left with only 2 dimensions of movement and we have lost a degree of freedom. This locking type of phenomenon is know as the Gimbal Lock."
   ]
  },
  {
   "cell_type": "markdown",
   "metadata": {},
   "source": [
    "### Rotation matrix for airplane increasing pitch by 90 degreees"
   ]
  },
  {
   "cell_type": "markdown",
   "metadata": {},
   "source": [
    "For $ \\beta = \\pi / 2$ \n",
    "\n",
    "$R_{gmb \\beta}$ = $\\begin{bmatrix} 1 & 0 & 0 \\\\ 0 & cos(\\gamma) & -sin(\\gamma) \\\\ 0 & sin(\\gamma) & cos(\\gamma) \\end{bmatrix}$ $\\begin{bmatrix} 0 & 0 & 1 \\\\ 0 & 1 & 0 \\\\ -1 & 0 & 0 \\end{bmatrix}$ $\\begin{bmatrix} cos(\\alpha) & -sin(\\alpha) & 0 \\\\ sin(\\alpha) & cos(\\alpha) & 0 \\\\ 0 & 0 & 1 \\end{bmatrix}$ \n",
    "\n",
    "$R_{gmb \\beta}$ = $\\begin{bmatrix} 0 & 0 & 1 \\\\ cos(\\gamma)sin(\\alpha) + cos(\\alpha)sin(\\gamma) & cos(\\gamma)cos(\\alpha) - sin(\\alpha)sin(\\gamma) & 0 \\\\ -cos(\\gamma)cos(\\alpha) + sin(\\alpha)sin(\\gamma) &  cos(\\gamma)sin(\\alpha) + cos(\\alpha)sin(\\gamma) & 0 \\end{bmatrix}$\n",
    "\n"
   ]
  },
  {
   "cell_type": "markdown",
   "metadata": {},
   "source": [
    "$P_{new} = R_{gmb \\beta} * P$ = $\\begin{bmatrix} 0 & 0 & 1 \\\\ cos(\\gamma)sin(\\alpha) + cos(\\alpha)sin(\\gamma) & cos(\\gamma)cos(\\alpha) - sin(\\alpha)sin(\\gamma) & 0 \\\\ -cos(\\gamma)cos(\\alpha) + sin(\\alpha)sin(\\gamma) &  cos(\\gamma)sin(\\alpha) + cos(\\alpha)sin(\\gamma) & 0 \\end{bmatrix}$ $\\begin{bmatrix} 0 \\\\ 1  \\\\ 0  \\end{bmatrix}$\n",
    "\n",
    "= $\\begin{bmatrix} 0 \\\\ cos(\\gamma)cos(\\alpha) - sin(\\alpha)sin(\\gamma) \\\\ cos(\\gamma)sin(\\alpha) + cos(\\alpha)sin(\\gamma) \\end{bmatrix}$\n",
    "\n",
    "= $\\begin{bmatrix} 0 \\\\ sin(\\alpha + \\gamma) \\\\ cos(\\alpha + \\gamma) \\end{bmatrix}$\n"
   ]
  },
  {
   "cell_type": "markdown",
   "metadata": {},
   "source": [
    "1. $P_{new} = [1, 0, 0]ᵀ $ is not possibleas the first entry of $P_{new}$ has to be zero\n",
    "\n",
    "2. If $P_{new}$ lies on the XY unit cicle, then, it's x coordinate will be zero and the sum of squares of the x and y coordinats will be 1. However, $P_{new}$ has to have x coordinate as 0. Therefore, y coordinate has to be +1 or -1. Therefore $P_{new} = [0, +1, 0]ᵀ$ and $P = [0, -1, 0]ᵀ$ are two posible solutions. Now, if $ cos(\\alpha + \\gamma) = 0 $ and $ sin(\\alpha + \\gamma)  = +1 , -1 $, then this gives us infinte solutions for $ \\alpha + \\gamma $ where their sum is either $\\pi/2$ or $-\\pi/2$.\n",
    "\n",
    "3. If $P_{new}$ lies on the YZ unit cicle, then for any y belonging to {0,1}, we can get an $z^2$ = {1 - $y^2$}. Therefore, wehave infiite possibilities for $P_{new}$. Now, $cos(\\alpha + \\gamma)^2$ + $sin(\\alpha + \\gamma)^2$ is always 1 which is already satisfied by the equation: $z^2$ = 1 - $y^2$. Therefore, we will be able to get $ \\alpha,  \\gamma $ for all these solutions. "
   ]
  },
  {
   "cell_type": "markdown",
   "metadata": {},
   "source": [
    "- The value of 90 degrees as $ \\beta $ is a problematic value because it results in the isue of gimbal lock."
   ]
  },
  {
   "cell_type": "markdown",
   "metadata": {},
   "source": []
  }
 ],
 "metadata": {
  "kernelspec": {
   "display_name": "Python 3.9.12 ('a1')",
   "language": "python",
   "name": "python3"
  },
  "language_info": {
   "codemirror_mode": {
    "name": "ipython",
    "version": 3
   },
   "file_extension": ".py",
   "mimetype": "text/x-python",
   "name": "python",
   "nbconvert_exporter": "python",
   "pygments_lexer": "ipython3",
   "version": "3.9.12"
  },
  "orig_nbformat": 4,
  "vscode": {
   "interpreter": {
    "hash": "3b3f52620082b85678dcf4b922e5cd3966d9a4f9264ed046017a0a585fc8a1e9"
   }
  }
 },
 "nbformat": 4,
 "nbformat_minor": 2
}
